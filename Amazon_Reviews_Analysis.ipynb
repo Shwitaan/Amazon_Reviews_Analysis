{
 "cells": [
  {
   "cell_type": "markdown",
   "metadata": {},
   "source": [
    "# Amazon Reviews Analysis"
   ]
  },
  {
   "cell_type": "code",
   "execution_count": 1,
   "metadata": {},
   "outputs": [
    {
     "name": "stdout",
     "output_type": "stream",
     "text": [
      "Starting Spark application\n"
     ]
    },
    {
     "data": {
      "text/html": [
       "<table>\n",
       "<tr><th>ID</th><th>YARN Application ID</th><th>Kind</th><th>State</th><th>Spark UI</th><th>Driver log</th><th>Current session?</th></tr><tr><td>2</td><td>application_1588601591079_0010</td><td>pyspark3</td><td>idle</td><td><a target=\"_blank\" href=\"http://ip-172-31-52-178.ec2.internal:20888/proxy/application_1588601591079_0010/\">Link</a></td><td><a target=\"_blank\" href=\"http://ip-172-31-48-177.ec2.internal:8042/node/containerlogs/container_1588601591079_0010_01_000001/livy\">Link</a></td><td>✔</td></tr></table>"
      ],
      "text/plain": [
       "<IPython.core.display.HTML object>"
      ]
     },
     "metadata": {},
     "output_type": "display_data"
    },
    {
     "name": "stdout",
     "output_type": "stream",
     "text": [
      "SparkSession available as 'spark'.\n",
      "<pyspark.sql.session.SparkSession object at 0x7f5568cf0ba8>"
     ]
    }
   ],
   "source": [
    "spark"
   ]
  },
  {
   "cell_type": "code",
   "execution_count": 2,
   "metadata": {},
   "outputs": [],
   "source": [
    "from pyspark.sql import functions as F"
   ]
  },
  {
   "cell_type": "code",
   "execution_count": 3,
   "metadata": {},
   "outputs": [],
   "source": [
    "# Load Data Set\n",
    "df = spark.read\\\n",
    "          .option(\"header\", \"true\")\\\n",
    "          .option(\"inferSchema\", \"true\")\\\n",
    "          .option(\"basePath\", \"hdfs:///hive/amazon-reviews-pds/parquet/\")\\\n",
    "          .parquet(\"hdfs:///hive/amazon-reviews-pds/parquet/*\")"
   ]
  },
  {
   "cell_type": "code",
   "execution_count": 4,
   "metadata": {},
   "outputs": [
    {
     "name": "stdout",
     "output_type": "stream",
     "text": [
      "root\n",
      " |-- marketplace: string (nullable = true)\n",
      " |-- customer_id: string (nullable = true)\n",
      " |-- review_id: string (nullable = true)\n",
      " |-- product_id: string (nullable = true)\n",
      " |-- product_parent: string (nullable = true)\n",
      " |-- product_title: string (nullable = true)\n",
      " |-- star_rating: integer (nullable = true)\n",
      " |-- helpful_votes: integer (nullable = true)\n",
      " |-- total_votes: integer (nullable = true)\n",
      " |-- vine: string (nullable = true)\n",
      " |-- verified_purchase: string (nullable = true)\n",
      " |-- review_headline: string (nullable = true)\n",
      " |-- review_body: string (nullable = true)\n",
      " |-- review_date: date (nullable = true)\n",
      " |-- year: integer (nullable = true)\n",
      " |-- product_category: string (nullable = true)"
     ]
    }
   ],
   "source": [
    "df.printSchema()"
   ]
  },
  {
   "cell_type": "code",
   "execution_count": 5,
   "metadata": {},
   "outputs": [
    {
     "name": "stdout",
     "output_type": "stream",
     "text": [
      "['marketplace', 'customer_id', 'review_id', 'product_id', 'product_parent', 'product_title', 'star_rating', 'helpful_votes', 'total_votes', 'vine', 'verified_purchase', 'review_headline', 'review_body', 'review_date', 'year', 'product_category']"
     ]
    }
   ],
   "source": [
    "df.columns"
   ]
  },
  {
   "cell_type": "markdown",
   "metadata": {},
   "source": [
    "### Keep only limited number of columns"
   ]
  },
  {
   "cell_type": "code",
   "execution_count": 6,
   "metadata": {},
   "outputs": [],
   "source": [
    "columns_to_keep = ['customer_id', 'review_id', 'product_id', 'product_parent', \n",
    "                   'product_title', 'star_rating', 'helpful_votes', 'total_votes',\n",
    "                   'verified_purchase', 'review_body', 'review_date', 'year', 'product_category']\n",
    "df_limited = df.select(columns_to_keep).filter(F.col(\"year\")>2004)"
   ]
  },
  {
   "cell_type": "code",
   "execution_count": 7,
   "metadata": {},
   "outputs": [
    {
     "name": "stdout",
     "output_type": "stream",
     "text": [
      "root\n",
      " |-- customer_id: string (nullable = true)\n",
      " |-- review_id: string (nullable = true)\n",
      " |-- product_id: string (nullable = true)\n",
      " |-- product_parent: string (nullable = true)\n",
      " |-- product_title: string (nullable = true)\n",
      " |-- star_rating: integer (nullable = true)\n",
      " |-- helpful_votes: integer (nullable = true)\n",
      " |-- total_votes: integer (nullable = true)\n",
      " |-- verified_purchase: string (nullable = true)\n",
      " |-- review_body: string (nullable = true)\n",
      " |-- review_date: date (nullable = true)\n",
      " |-- year: integer (nullable = true)\n",
      " |-- product_category: string (nullable = true)"
     ]
    }
   ],
   "source": [
    "df_limited.printSchema()"
   ]
  },
  {
   "cell_type": "markdown",
   "metadata": {},
   "source": [
    "## Number of paritions in the DF"
   ]
  },
  {
   "cell_type": "code",
   "execution_count": 8,
   "metadata": {},
   "outputs": [
    {
     "name": "stdout",
     "output_type": "stream",
     "text": [
      "216"
     ]
    }
   ],
   "source": [
    "df_limited.rdd.getNumPartitions()"
   ]
  },
  {
   "cell_type": "markdown",
   "metadata": {},
   "source": [
    "### Persist DF - will keep as much as possible in the memory after first action/data scan"
   ]
  },
  {
   "cell_type": "code",
   "execution_count": 9,
   "metadata": {},
   "outputs": [
    {
     "name": "stdout",
     "output_type": "stream",
     "text": [
      "+-----------+--------------+----------+--------------+-----------------------+-----------+-------------+-----------+-----------------+----------------------------+-----------+----+----------------+\n",
      "|customer_id|     review_id|product_id|product_parent|          product_title|star_rating|helpful_votes|total_votes|verified_purchase|                 review_body|review_date|year|product_category|\n",
      "+-----------+--------------+----------+--------------+-----------------------+-----------+-------------+-----------+-----------------+----------------------------+-----------+----+----------------+\n",
      "|   16868299|R1UQX4QQ4IU00P|B005I6EU7U|      90774528|   Verso Kindle Fire...|          5|            0|          0|                Y|        I purchased the P...| 2012-06-29|2012|              PC|\n",
      "|   26929322|R138SH9Y2VTYOB|B00AFY8K7G|     764843002|Ozone Rage ST ゲーミ...|          3|            0|          1|                Y|fpsプレイヤーです<br />足...| 2014-04-09|2014|              PC|\n",
      "|   42470542|R29LNYEZJ3YNT8|B007R1SIY0|     112516052|   CISCO SYSTEMS WAP...|          5|            0|          2|                N|        It is a wireless ...| 2012-06-29|2012|              PC|\n",
      "|   43829974|R3HL06XL1C5Z5S|B006HUMYCO|     569961969|   ASUS SDRW-08D2S-U...|          5|            0|          0|                Y|        Amazing product. ...| 2014-04-09|2014|              PC|\n",
      "|   14631907|R27HRAA98ZYIEK|B004WYA852|     536677419|   amFilm iPad 2 Scr...|          4|            0|          0|                Y|        I have been reluc...| 2012-06-29|2012|              PC|\n",
      "+-----------+--------------+----------+--------------+-----------------------+-----------+-------------+-----------+-----------------+----------------------------+-----------+----+----------------+\n",
      "only showing top 5 rows"
     ]
    }
   ],
   "source": [
    "df_limited.persist()\n",
    "df_limited.show(5)"
   ]
  },
  {
   "cell_type": "markdown",
   "metadata": {},
   "source": [
    "## Perform aggreagtion to get high level Stats\n",
    "\n",
    "Runtime (abount 5 Gb data scanned): \n",
    "\n",
    "    - 3 Slaves on m4.large - abount 4 min\n",
    "    - 3 Slaves on m4.xlarge - abount 2 min"
   ]
  },
  {
   "cell_type": "code",
   "execution_count": 10,
   "metadata": {},
   "outputs": [
    {
     "name": "stdout",
     "output_type": "stream",
     "text": [
      "+----------------------+-------------------+-----------------+---------------------+\n",
      "|product_category      |Average-star_rating|Sum-helpful_votes|Average-helpful_votes|\n",
      "+----------------------+-------------------+-----------------+---------------------+\n",
      "|Wireless              |3.893              |7934542          |0.879                |\n",
      "|Video_DVD             |4.336              |16816126         |2.594                |\n",
      "|PC                    |4.091              |10044848         |1.444                |\n",
      "|Mobile_Apps           |4.035              |18098912         |2.659                |\n",
      "|Digital_Video_Download|4.208              |2538073          |0.491                |\n",
      "|Digital_Ebook_Purchase|4.312              |19141273         |0.998                |\n",
      "|Books                 |4.364              |53565320         |2.994                |\n",
      "+----------------------+-------------------+-----------------+---------------------+"
     ]
    }
   ],
   "source": [
    "from pyspark.sql.functions import countDistinct, approx_count_distinct, count, sum, mean, round\n",
    "df_limited.groupBy(\"product_category\").agg(round(mean(\"star_rating\"),3).alias(\"Average-star_rating\"),\n",
    "                         round(sum(\"helpful_votes\"),3).alias(\"Sum-helpful_votes\"),\n",
    "                         round(mean(\"helpful_votes\"),3).alias(\"Average-helpful_votes\"))\\\n",
    "                     .sort(\"product_category\", ascending=False).show(20, False)"
   ]
  },
  {
   "cell_type": "code",
   "execution_count": 11,
   "metadata": {},
   "outputs": [
    {
     "name": "stdout",
     "output_type": "stream",
     "text": [
      "+-----------+--------------+----------+--------------+-----------------------+-----------+-------------+-----------+-----------------+----------------------------+-----------+----+----------------+\n",
      "|customer_id|     review_id|product_id|product_parent|          product_title|star_rating|helpful_votes|total_votes|verified_purchase|                 review_body|review_date|year|product_category|\n",
      "+-----------+--------------+----------+--------------+-----------------------+-----------+-------------+-----------+-----------------+----------------------------+-----------+----+----------------+\n",
      "|   16868299|R1UQX4QQ4IU00P|B005I6EU7U|      90774528|   Verso Kindle Fire...|          5|            0|          0|                Y|        I purchased the P...| 2012-06-29|2012|              PC|\n",
      "|   26929322|R138SH9Y2VTYOB|B00AFY8K7G|     764843002|Ozone Rage ST ゲーミ...|          3|            0|          1|                Y|fpsプレイヤーです<br />足...| 2014-04-09|2014|              PC|\n",
      "|   42470542|R29LNYEZJ3YNT8|B007R1SIY0|     112516052|   CISCO SYSTEMS WAP...|          5|            0|          2|                N|        It is a wireless ...| 2012-06-29|2012|              PC|\n",
      "|   43829974|R3HL06XL1C5Z5S|B006HUMYCO|     569961969|   ASUS SDRW-08D2S-U...|          5|            0|          0|                Y|        Amazing product. ...| 2014-04-09|2014|              PC|\n",
      "|   14631907|R27HRAA98ZYIEK|B004WYA852|     536677419|   amFilm iPad 2 Scr...|          4|            0|          0|                Y|        I have been reluc...| 2012-06-29|2012|              PC|\n",
      "+-----------+--------------+----------+--------------+-----------------------+-----------+-------------+-----------+-----------------+----------------------------+-----------+----+----------------+\n",
      "only showing top 5 rows"
     ]
    }
   ],
   "source": [
    "df_limited.show(5)"
   ]
  },
  {
   "cell_type": "code",
   "execution_count": 12,
   "metadata": {},
   "outputs": [],
   "source": [
    "from pyspark.sql.functions import row_number\n",
    "from pyspark.sql.window import *\n",
    "df_rownum = df_limited.withColumn(\"row_num\", row_number()\n",
    "                      .over(Window.partitionBy(\"customer_id\",\"product_id\",\"product_category\")\\\n",
    "                            .orderBy(\"review_date\"))).select(\"row_num\",\"customer_id\",\"review_id\",\\\n",
    "                                                             \"product_id\",\"product_parent\",\"product_title\",\\\n",
    "                                                             \"star_rating\",\"helpful_votes\",\"total_votes\",\\\n",
    "                                                             \"verified_purchase\",\"review_body\",\"review_date\",\"year\",\\\n",
    "                                                             \"product_category\")"
   ]
  },
  {
   "cell_type": "code",
   "execution_count": 13,
   "metadata": {},
   "outputs": [],
   "source": [
    "df_new = df_rownum.select(\"customer_id\",\"review_id\",\"product_id\",\"product_parent\",\\\n",
    "                        \"product_title\",\"star_rating\",\"helpful_votes\",\"total_votes\",\\\n",
    "                        \"verified_purchase\",\"review_body\",\"review_date\",\"year\",\"product_category\")\\\n",
    ".where(F.col('row_num')==1)"
   ]
  },
  {
   "cell_type": "code",
   "execution_count": 14,
   "metadata": {},
   "outputs": [
    {
     "name": "stdout",
     "output_type": "stream",
     "text": [
      "DataFrame[customer_id: string, review_id: string, product_id: string, product_parent: string, product_title: string, star_rating: int, helpful_votes: int, total_votes: int, verified_purchase: string, review_body: string, review_date: date, year: int, product_category: string]"
     ]
    }
   ],
   "source": [
    "df_new.persist()"
   ]
  },
  {
   "cell_type": "code",
   "execution_count": 15,
   "metadata": {},
   "outputs": [
    {
     "name": "stdout",
     "output_type": "stream",
     "text": [
      "65911069"
     ]
    }
   ],
   "source": [
    "df_new.count()"
   ]
  },
  {
   "cell_type": "markdown",
   "metadata": {},
   "source": [
    "## 1. Explore the dataset and provide analysis by product-category and year:\n",
    "\n",
    "### Number of reviews"
   ]
  },
  {
   "cell_type": "code",
   "execution_count": 16,
   "metadata": {},
   "outputs": [
    {
     "name": "stdout",
     "output_type": "stream",
     "text": [
      "+----------------------+----+-------------+\n",
      "|product_category      |year|no_of_reviews|\n",
      "+----------------------+----+-------------+\n",
      "|Books                 |2005|521047       |\n",
      "|Books                 |2006|568401       |\n",
      "|Books                 |2007|761037       |\n",
      "|Books                 |2008|827721       |\n",
      "|Books                 |2009|1015572      |\n",
      "|Books                 |2010|1120772      |\n",
      "|Books                 |2011|1303082      |\n",
      "|Books                 |2012|1649719      |\n",
      "|Books                 |2013|2965970      |\n",
      "|Books                 |2014|3540838      |\n",
      "|Books                 |2015|2860663      |\n",
      "|Digital_Ebook_Purchase|2005|19           |\n",
      "|Digital_Ebook_Purchase|2006|36           |\n",
      "|Digital_Ebook_Purchase|2007|508          |\n",
      "|Digital_Ebook_Purchase|2008|9607         |\n",
      "|Digital_Ebook_Purchase|2009|31106        |\n",
      "|Digital_Ebook_Purchase|2010|102515       |\n",
      "|Digital_Ebook_Purchase|2011|350138       |\n",
      "|Digital_Ebook_Purchase|2012|1526599      |\n",
      "|Digital_Ebook_Purchase|2013|4569677      |\n",
      "+----------------------+----+-------------+\n",
      "only showing top 20 rows"
     ]
    }
   ],
   "source": [
    "df_new.groupBy(\"product_category\",\"year\")\\\n",
    ".agg(F.count('review_id').alias('no_of_reviews'))\\\n",
    ".sort(\"product_category\",\"year\").show(truncate=False)"
   ]
  },
  {
   "cell_type": "markdown",
   "metadata": {},
   "source": [
    "### Number of users"
   ]
  },
  {
   "cell_type": "code",
   "execution_count": 17,
   "metadata": {},
   "outputs": [
    {
     "name": "stdout",
     "output_type": "stream",
     "text": [
      "+----------------------+----+-----------+\n",
      "|product_category      |year|no_of_users|\n",
      "+----------------------+----+-----------+\n",
      "|Books                 |2005|290588     |\n",
      "|Books                 |2006|317358     |\n",
      "|Books                 |2007|420721     |\n",
      "|Books                 |2008|459247     |\n",
      "|Books                 |2009|574958     |\n",
      "|Books                 |2010|640507     |\n",
      "|Books                 |2011|752546     |\n",
      "|Books                 |2012|951710     |\n",
      "|Books                 |2013|1620951    |\n",
      "|Books                 |2014|1859221    |\n",
      "|Books                 |2015|1548543    |\n",
      "|Digital_Ebook_Purchase|2005|17         |\n",
      "|Digital_Ebook_Purchase|2006|33         |\n",
      "|Digital_Ebook_Purchase|2007|407        |\n",
      "|Digital_Ebook_Purchase|2008|5829       |\n",
      "|Digital_Ebook_Purchase|2009|19741      |\n",
      "|Digital_Ebook_Purchase|2010|61197      |\n",
      "|Digital_Ebook_Purchase|2011|183970     |\n",
      "|Digital_Ebook_Purchase|2012|786067     |\n",
      "|Digital_Ebook_Purchase|2013|1879963    |\n",
      "+----------------------+----+-----------+\n",
      "only showing top 20 rows"
     ]
    }
   ],
   "source": [
    "df_new.groupBy(\"product_category\",\"year\")\\\n",
    ".agg(F.countDistinct('customer_id').alias('no_of_users'))\\\n",
    ".sort(\"product_category\",\"year\").show(truncate=False)"
   ]
  },
  {
   "cell_type": "markdown",
   "metadata": {},
   "source": [
    "### Average and Median review stars"
   ]
  },
  {
   "cell_type": "code",
   "execution_count": 18,
   "metadata": {},
   "outputs": [
    {
     "name": "stdout",
     "output_type": "stream",
     "text": [
      "+----------------------+----+--------------+\n",
      "|product_category      |year|average_rating|\n",
      "+----------------------+----+--------------+\n",
      "|Books                 |2005|4.148         |\n",
      "|Books                 |2006|4.197         |\n",
      "|Books                 |2007|4.258         |\n",
      "|Books                 |2008|4.233         |\n",
      "|Books                 |2009|4.247         |\n",
      "|Books                 |2010|4.247         |\n",
      "|Books                 |2011|4.251         |\n",
      "|Books                 |2012|4.315         |\n",
      "|Books                 |2013|4.412         |\n",
      "|Books                 |2014|4.473         |\n",
      "|Books                 |2015|4.497         |\n",
      "|Digital_Ebook_Purchase|2005|3.579         |\n",
      "|Digital_Ebook_Purchase|2006|4.028         |\n",
      "|Digital_Ebook_Purchase|2007|3.939         |\n",
      "|Digital_Ebook_Purchase|2008|3.946         |\n",
      "|Digital_Ebook_Purchase|2009|3.777         |\n",
      "|Digital_Ebook_Purchase|2010|3.822         |\n",
      "|Digital_Ebook_Purchase|2011|4.056         |\n",
      "|Digital_Ebook_Purchase|2012|4.214         |\n",
      "|Digital_Ebook_Purchase|2013|4.302         |\n",
      "+----------------------+----+--------------+\n",
      "only showing top 20 rows"
     ]
    }
   ],
   "source": [
    "df_new.groupBy(\"product_category\",\"year\")\\\n",
    ".agg(F.round(F.mean('star_rating'),3).alias('average_rating'))\\\n",
    ".sort(\"product_category\",\"year\").show(truncate=False)"
   ]
  },
  {
   "cell_type": "code",
   "execution_count": 19,
   "metadata": {},
   "outputs": [
    {
     "name": "stdout",
     "output_type": "stream",
     "text": [
      "+----------------------+----+---+\n",
      "|product_category      |year|%50|\n",
      "+----------------------+----+---+\n",
      "|Books                 |2005|5.0|\n",
      "|Books                 |2006|5.0|\n",
      "|Books                 |2007|5.0|\n",
      "|Books                 |2008|5.0|\n",
      "|Books                 |2009|5.0|\n",
      "|Books                 |2010|5.0|\n",
      "|Books                 |2011|5.0|\n",
      "|Books                 |2012|5.0|\n",
      "|Books                 |2013|5.0|\n",
      "|Books                 |2014|5.0|\n",
      "|Books                 |2015|5.0|\n",
      "|Digital_Ebook_Purchase|2005|4.0|\n",
      "|Digital_Ebook_Purchase|2006|5.0|\n",
      "|Digital_Ebook_Purchase|2007|5.0|\n",
      "|Digital_Ebook_Purchase|2008|5.0|\n",
      "|Digital_Ebook_Purchase|2009|4.0|\n",
      "|Digital_Ebook_Purchase|2010|4.0|\n",
      "|Digital_Ebook_Purchase|2011|5.0|\n",
      "|Digital_Ebook_Purchase|2012|5.0|\n",
      "|Digital_Ebook_Purchase|2013|5.0|\n",
      "+----------------------+----+---+\n",
      "only showing top 20 rows"
     ]
    }
   ],
   "source": [
    "df_new.groupby(\"product_category\",\"year\").agg(F.round(F.expr('percentile(star_rating, array(0.50))')[0]).alias('%50'))\\\n",
    ".sort(\"product_category\",\"year\").show(truncate=False)"
   ]
  },
  {
   "cell_type": "markdown",
   "metadata": {},
   "source": [
    "### Percentiles of length of the review"
   ]
  },
  {
   "cell_type": "code",
   "execution_count": 20,
   "metadata": {},
   "outputs": [],
   "source": [
    "from pyspark.sql.functions import length\n",
    "df_length = df_new.withColumn(\"review_length\",length(\"review_body\"))"
   ]
  },
  {
   "cell_type": "code",
   "execution_count": 21,
   "metadata": {},
   "outputs": [
    {
     "name": "stdout",
     "output_type": "stream",
     "text": [
      "+----------------------+----+-----+-----+------+------+------+------+\n",
      "|product_category      |year|%1   |%25  |%50   |%75   |%90   |%95   |\n",
      "+----------------------+----+-----+-----+------+------+------+------+\n",
      "|Books                 |2005|207.0|367.0|674.0 |1285.0|2290.0|3433.0|\n",
      "|Books                 |2006|189.0|338.0|628.0 |1221.0|2207.0|3346.0|\n",
      "|Books                 |2007|144.0|258.0|499.0 |1005.0|1900.0|2946.0|\n",
      "|Books                 |2008|150.0|267.0|521.0 |1054.0|1970.0|3090.0|\n",
      "|Books                 |2009|138.0|249.0|505.0 |1058.0|1970.0|3084.0|\n",
      "|Books                 |2010|140.0|251.0|519.0 |1114.0|2076.0|3267.0|\n",
      "|Books                 |2011|157.0|259.0|523.0 |1133.0|2130.0|3320.0|\n",
      "|Books                 |2012|137.0|208.0|432.0 |985.0 |1962.0|3162.0|\n",
      "|Books                 |2013|117.0|145.0|244.0 |558.0 |1306.0|2102.0|\n",
      "|Books                 |2014|21.0 |71.0 |161.0 |386.0 |927.0 |1583.0|\n",
      "|Books                 |2015|12.0 |35.0 |100.0 |307.0 |822.0 |1442.0|\n",
      "|Digital_Ebook_Purchase|2005|157.0|412.0|2468.0|3462.0|4284.0|5235.0|\n",
      "|Digital_Ebook_Purchase|2006|180.0|319.0|1056.0|2366.0|5085.0|5868.0|\n",
      "|Digital_Ebook_Purchase|2007|128.0|245.0|503.0 |1182.0|2277.0|3580.0|\n",
      "|Digital_Ebook_Purchase|2008|119.0|225.0|458.0 |996.0 |1848.0|2724.0|\n",
      "|Digital_Ebook_Purchase|2009|136.0|228.0|423.0 |826.0 |1537.0|2243.0|\n",
      "|Digital_Ebook_Purchase|2010|144.0|240.0|450.0 |883.0 |1615.0|2318.0|\n",
      "|Digital_Ebook_Purchase|2011|165.0|260.0|469.0 |893.0 |1626.0|2334.0|\n",
      "|Digital_Ebook_Purchase|2012|123.0|163.0|293.0 |596.0 |1201.0|1793.0|\n",
      "|Digital_Ebook_Purchase|2013|113.0|133.0|198.0 |389.0 |831.0 |1364.0|\n",
      "+----------------------+----+-----+-----+------+------+------+------+\n",
      "only showing top 20 rows"
     ]
    }
   ],
   "source": [
    "df_length.groupby(\"product_category\",\"year\").agg(F.round(F.expr('percentile(review_length, array(0.1))')[0]).alias('%1'),\\\n",
    "                                                 F.round(F.expr('percentile(review_length, array(0.25))')[0]).alias('%25'),\\\n",
    "                                                 F.round(F.expr('percentile(review_length, array(0.50))')[0]).alias('%50'),\\\n",
    "                                                 F.round(F.expr('percentile(review_length, array(0.75))')[0]).alias('%75'),\\\n",
    "                                                 F.round(F.expr('percentile(review_length, array(0.9))')[0]).alias('%90'),\\\n",
    "                                                 F.round(F.expr('percentile(review_length, array(0.95))')[0]).alias('%95'))\\\n",
    ".sort(\"product_category\",\"year\").show(truncate=False)"
   ]
  },
  {
   "cell_type": "markdown",
   "metadata": {},
   "source": [
    "### Percentiles for number of reviews per product"
   ]
  },
  {
   "cell_type": "code",
   "execution_count": 22,
   "metadata": {},
   "outputs": [
    {
     "name": "stdout",
     "output_type": "stream",
     "text": [
      "root\n",
      " |-- product_title: string (nullable = true)\n",
      " |-- product_category: string (nullable = true)\n",
      " |-- year: integer (nullable = true)\n",
      " |-- review_count: long (nullable = false)"
     ]
    }
   ],
   "source": [
    "df_reviewc = df_new.groupBy(\"product_title\",\"product_category\",\"year\").agg(F.count(\"review_id\").alias('review_count'))\n",
    "df_reviewc.printSchema()"
   ]
  },
  {
   "cell_type": "code",
   "execution_count": 23,
   "metadata": {},
   "outputs": [
    {
     "name": "stdout",
     "output_type": "stream",
     "text": [
      "+----------------------+----+---+---+---+---+----+----+\n",
      "|product_category      |year|%1 |%25|%50|%75|%90 |%95 |\n",
      "+----------------------+----+---+---+---+---+----+----+\n",
      "|Books                 |2005|1.0|1.0|1.0|2.0|4.0 |7.0 |\n",
      "|Books                 |2006|1.0|1.0|1.0|2.0|4.0 |7.0 |\n",
      "|Books                 |2007|1.0|1.0|1.0|2.0|4.0 |7.0 |\n",
      "|Books                 |2008|1.0|1.0|1.0|2.0|4.0 |7.0 |\n",
      "|Books                 |2009|1.0|1.0|1.0|2.0|4.0 |7.0 |\n",
      "|Books                 |2010|1.0|1.0|1.0|2.0|4.0 |8.0 |\n",
      "|Books                 |2011|1.0|1.0|1.0|2.0|5.0 |8.0 |\n",
      "|Books                 |2012|1.0|1.0|1.0|2.0|5.0 |8.0 |\n",
      "|Books                 |2013|1.0|1.0|1.0|3.0|6.0 |10.0|\n",
      "|Books                 |2014|1.0|1.0|1.0|3.0|6.0 |11.0|\n",
      "|Books                 |2015|1.0|1.0|1.0|2.0|5.0 |10.0|\n",
      "|Digital_Ebook_Purchase|2005|1.0|1.0|1.0|1.0|1.0 |1.0 |\n",
      "|Digital_Ebook_Purchase|2006|1.0|1.0|1.0|1.0|1.0 |1.0 |\n",
      "|Digital_Ebook_Purchase|2007|1.0|1.0|1.0|1.0|2.0 |2.0 |\n",
      "|Digital_Ebook_Purchase|2008|1.0|1.0|1.0|1.0|2.0 |3.0 |\n",
      "|Digital_Ebook_Purchase|2009|1.0|1.0|1.0|2.0|3.0 |5.0 |\n",
      "|Digital_Ebook_Purchase|2010|1.0|1.0|1.0|2.0|4.0 |7.0 |\n",
      "|Digital_Ebook_Purchase|2011|1.0|1.0|1.0|3.0|6.0 |10.0|\n",
      "|Digital_Ebook_Purchase|2012|1.0|1.0|2.0|4.0|9.0 |16.0|\n",
      "|Digital_Ebook_Purchase|2013|1.0|1.0|2.0|5.0|14.0|28.0|\n",
      "+----------------------+----+---+---+---+---+----+----+\n",
      "only showing top 20 rows"
     ]
    }
   ],
   "source": [
    "df_reviewc.groupby(\"product_category\",\"year\").agg(F.round(F.expr('percentile(review_count, array(0.1))')[0]).alias('%1'),\\\n",
    "                                                 F.round(F.expr('percentile(review_count, array(0.25))')[0]).alias('%25'),\\\n",
    "                                                 F.round(F.expr('percentile(review_count, array(0.50))')[0]).alias('%50'),\\\n",
    "                                                 F.round(F.expr('percentile(review_count, array(0.75))')[0]).alias('%75'),\\\n",
    "                                                 F.round(F.expr('percentile(review_count, array(0.9))')[0]).alias('%90'),\\\n",
    "                                                 F.round(F.expr('percentile(review_count, array(0.95))')[0]).alias('%95'))\\\n",
    ".sort(\"product_category\",\"year\").show(truncate=False)"
   ]
  },
  {
   "cell_type": "markdown",
   "metadata": {},
   "source": [
    "### Identify week number for each year and product category with most positive reviews (4 and 5 star)"
   ]
  },
  {
   "cell_type": "code",
   "execution_count": 24,
   "metadata": {},
   "outputs": [
    {
     "name": "stdout",
     "output_type": "stream",
     "text": [
      "+-----------+--------------+----------+--------------+--------------------+-----------+-------------+-----------+-----------------+--------------------+-----------+----+--------------------+------------+\n",
      "|customer_id|     review_id|product_id|product_parent|       product_title|star_rating|helpful_votes|total_votes|verified_purchase|         review_body|review_date|year|    product_category|week_of_year|\n",
      "+-----------+--------------+----------+--------------+--------------------+-----------+-------------+-----------+-----------------+--------------------+-----------+----+--------------------+------------+\n",
      "|   10000113| RQ9E9A2ISWOQV|B0083XTNJK|     416505290|CrazyOnDigital Re...|          4|            0|          0|                Y|I am very pleased...| 2012-10-02|2012|                  PC|          40|\n",
      "|   10000185|R1437UFF5891NA|0061986380|     364246210|Extinction Agenda...|          5|            0|          0|                N|Great book. I fin...| 2011-12-29|2011|               Books|          52|\n",
      "|    1000021| RSI49CIWKMLHW|B00OB1IS08|     635789129|Note 4 Case, E LV...|          5|            0|          0|                Y|So excited for th...| 2015-05-24|2015|            Wireless|          21|\n",
      "|   10000221| RLMBSUF00TJIV|B004ZMH9OE|     519764619|TRIPP LITE USB 3....|          5|            0|          1|                Y|we looked at a nu...| 2013-01-21|2013|                  PC|           4|\n",
      "|   10000354|R33MI7K7D6LAGT|B00J19Y7GY|     664256134|A Wrong Turn Towa...|          5|            0|          0|                Y|Awesome read! I r...| 2015-05-13|2015|Digital_Ebook_Pur...|          20|\n",
      "|   10000371|R19KMA814XC67R|0345444051|     589013680|Childhood's End (...|          5|            0|          1|                N|An awe-inspiring ...| 2011-12-18|2011|               Books|          50|\n",
      "|   10000462| RKBF5R2I3TOJT|B009TGVUPA|     517637909|            The Mist|          5|            0|          0|                Y|A good adaptation...| 2015-08-17|2015|Digital_Video_Dow...|          34|\n",
      "|   10000470|R3NP56MW8B4FMA|0545615402|     160159764|Hogwarts Library ...|          4|            0|          1|                Y|Got this set at a...| 2014-01-08|2014|               Books|           2|\n",
      "|   10000579|R3OI1AQBGZZW33|B007D6J64K|     775471014|Zebra Print Anima...|          5|            0|          0|                Y|it fits great, it...| 2013-05-07|2013|            Wireless|          19|\n",
      "|   10000589| R7IPIFU04MZCK|B002FFT8Z6|     143462339|USB 2.0 High Spee...|          5|           24|         28|                Y|This item was as ...| 2011-08-13|2011|                  PC|          32|\n",
      "+-----------+--------------+----------+--------------+--------------------+-----------+-------------+-----------+-----------------+--------------------+-----------+----+--------------------+------------+\n",
      "only showing top 10 rows"
     ]
    }
   ],
   "source": [
    "from pyspark.sql.functions import weekofyear\n",
    "df_new.withColumn('week_of_year',weekofyear(\"review_date\")).filter(F.col(\"star_rating\") >= 4).show(10)"
   ]
  },
  {
   "cell_type": "markdown",
   "metadata": {},
   "source": [
    "## 2. Provide detailed analysis of \"Digital eBook Purchase\" versus \"Books\"."
   ]
  },
  {
   "cell_type": "code",
   "execution_count": 25,
   "metadata": {},
   "outputs": [],
   "source": [
    "from pyspark.sql.functions import lower,col,trim\n",
    "df_compare=\\\n",
    "df_new.select(\"customer_id\",\"review_id\",\"product_id\",\"product_parent\",\\\n",
    "               lower(trim(col('product_title'))).alias('product_title'),\"star_rating\",\"helpful_votes\",\"total_votes\",\\\n",
    "               \"verified_purchase\",\"review_body\",\"review_date\",\"year\",\"product_category\")\\\n",
    ".where((F.col('product_category')=='Digital_Ebook_Purchase') | (F.col('product_category')=='Books'))"
   ]
  },
  {
   "cell_type": "code",
   "execution_count": 26,
   "metadata": {},
   "outputs": [
    {
     "name": "stdout",
     "output_type": "stream",
     "text": [
      "root\n",
      " |-- customer_id: string (nullable = true)\n",
      " |-- review_id: string (nullable = true)\n",
      " |-- product_id: string (nullable = true)\n",
      " |-- product_parent: string (nullable = true)\n",
      " |-- product_title: string (nullable = true)\n",
      " |-- star_rating: integer (nullable = true)\n",
      " |-- helpful_votes: integer (nullable = true)\n",
      " |-- total_votes: integer (nullable = true)\n",
      " |-- verified_purchase: string (nullable = true)\n",
      " |-- review_body: string (nullable = true)\n",
      " |-- review_date: date (nullable = true)\n",
      " |-- year: integer (nullable = true)\n",
      " |-- product_category: string (nullable = true)\n",
      " |-- month: integer (nullable = true)"
     ]
    }
   ],
   "source": [
    "df_month=df_compare.withColumn(\"month\", F.month(df_new[\"review_date\"]))\n",
    "df_month.printSchema()"
   ]
  },
  {
   "cell_type": "markdown",
   "metadata": {},
   "source": [
    "### Pivoted Table"
   ]
  },
  {
   "cell_type": "code",
   "execution_count": 27,
   "metadata": {},
   "outputs": [
    {
     "name": "stdout",
     "output_type": "stream",
     "text": [
      "+----+-----+------------------+----------------+-----------------------------------+---------------------------------+\n",
      "|year|month|Books_review_count|Books_avg_rating|Digital_Ebook_Purchase_review_count|Digital_Ebook_Purchase_avg_rating|\n",
      "+----+-----+------------------+----------------+-----------------------------------+---------------------------------+\n",
      "|2005|    1|             40436|           4.121|                                  1|                              5.0|\n",
      "|2005|    2|             33730|           4.125|                               null|                             null|\n",
      "|2005|    3|             38882|           4.122|                                  2|                              4.5|\n",
      "|2005|    4|             36891|           4.132|                                  1|                              5.0|\n",
      "|2005|    5|             36887|           4.132|                                  1|                              1.0|\n",
      "|2005|    6|             36600|           4.115|                               null|                             null|\n",
      "|2005|    7|             45943|           4.128|                                  3|                              2.0|\n",
      "|2005|    8|             58922|           4.186|                                  3|                            2.667|\n",
      "|2005|    9|             58130|           4.203|                                  2|                              4.0|\n",
      "|2005|   10|             51220|            4.18|                                  4|                              4.0|\n",
      "+----+-----+------------------+----------------+-----------------------------------+---------------------------------+\n",
      "only showing top 10 rows"
     ]
    }
   ],
   "source": [
    "pivoted = df_month.groupBy(\"year\",\"month\").pivot(\"product_category\")\\\n",
    ".agg(count(\"review_id\").alias(\"review_count\"),\\\n",
    "     round(mean(\"star_rating\"),3).alias(\"avg_rating\"))\\\n",
    ".sort(\"year\",\"month\")\n",
    "\n",
    "pivoted.show(10)"
   ]
  },
  {
   "cell_type": "code",
   "execution_count": 28,
   "metadata": {},
   "outputs": [],
   "source": [
    "%%spark -o df_graph\n",
    "\n",
    "df_graph=\\\n",
    "df_compare.groupBy(\"year\").pivot(\"product_category\")\\\n",
    ".agg(count(\"review_id\").alias(\"review_count\"),\\\n",
    "     round(mean(\"star_rating\"),3).alias(\"avg_rating\"))\\\n",
    ".sort(\"year\")"
   ]
  },
  {
   "cell_type": "code",
   "execution_count": 29,
   "metadata": {},
   "outputs": [
    {
     "name": "stdout",
     "output_type": "stream",
     "text": [
      "root\n",
      " |-- year: integer (nullable = true)\n",
      " |-- Books_review_count: long (nullable = true)\n",
      " |-- Books_avg_rating: double (nullable = true)\n",
      " |-- Digital_Ebook_Purchase_review_count: long (nullable = true)\n",
      " |-- Digital_Ebook_Purchase_avg_rating: double (nullable = true)"
     ]
    }
   ],
   "source": [
    "df_graph.printSchema()"
   ]
  },
  {
   "cell_type": "markdown",
   "metadata": {},
   "source": [
    "### Graphs to represent aggregations"
   ]
  },
  {
   "cell_type": "code",
   "execution_count": 30,
   "metadata": {},
   "outputs": [
    {
     "data": {
      "image/png": "[encoded data removed]",
      "text/plain": [
       "<Figure size 432x288 with 1 Axes>"
      ]
     },
     "metadata": {
      "needs_background": "light"
     },
     "output_type": "display_data"
    }
   ],
   "source": [
    "%%local\n",
    "%matplotlib inline\n",
    "\n",
    "import matplotlib.pyplot as plt\n",
    "plt.plot(df_graph.year, df_graph.Books_review_count, label = 'Books')\n",
    "plt.plot(df_graph.year, df_graph.Digital_Ebook_Purchase_review_count, label = 'E-Books')\n",
    "plt.xlabel('Year')\n",
    "plt.ylabel('count')\n",
    "plt.title('No. of reviews over time')\n",
    "plt.legend()\n",
    "plt.show()"
   ]
  },
  {
   "cell_type": "code",
   "execution_count": 31,
   "metadata": {},
   "outputs": [
    {
     "data": {
      "image/png": "[encoded data removed]",
      "text/plain": [
       "<Figure size 432x288 with 1 Axes>"
      ]
     },
     "metadata": {
      "needs_background": "light"
     },
     "output_type": "display_data"
    }
   ],
   "source": [
    "%%local\n",
    "%matplotlib inline\n",
    "\n",
    "import matplotlib.pyplot as plt\n",
    "plt.plot(df_graph.year, df_graph.Books_avg_rating, label = 'Books')\n",
    "plt.plot(df_graph.year, df_graph.Digital_Ebook_Purchase_avg_rating, label = 'E-Books')\n",
    "plt.xlabel('Year')\n",
    "plt.ylabel('Avg star rating')\n",
    "plt.title('Avg star rating over time')\n",
    "plt.legend()\n",
    "plt.show()"
   ]
  },
  {
   "cell_type": "markdown",
   "metadata": {},
   "source": [
    "### Steps to find average ratings of similar products:"
   ]
  },
  {
   "cell_type": "code",
   "execution_count": 32,
   "metadata": {},
   "outputs": [],
   "source": [
    "df_rating=\\\n",
    "df_compare.groupBy(\"product_title\").pivot(\"product_category\")\\\n",
    "                    .agg(round(mean(\"star_rating\"),3)).alias(\"avg_rating\")\\\n",
    "                    .sort(\"product_title\")"
   ]
  },
  {
   "cell_type": "code",
   "execution_count": 33,
   "metadata": {},
   "outputs": [
    {
     "name": "stdout",
     "output_type": "stream",
     "text": [
      "root\n",
      " |-- product_title: string (nullable = true)\n",
      " |-- Books: double (nullable = true)\n",
      " |-- Digital_Ebook_Purchase: double (nullable = true)"
     ]
    }
   ],
   "source": [
    "df_rating.printSchema()"
   ]
  },
  {
   "cell_type": "markdown",
   "metadata": {},
   "source": [
    "### Total number of similar products"
   ]
  },
  {
   "cell_type": "code",
   "execution_count": 34,
   "metadata": {},
   "outputs": [
    {
     "name": "stdout",
     "output_type": "stream",
     "text": [
      "341282"
     ]
    }
   ],
   "source": [
    "df_rating.where((F.col(\"Books\").isNotNull()) & (F.col(\"Digital_Ebook_Purchase\").isNotNull())).count()"
   ]
  },
  {
   "cell_type": "markdown",
   "metadata": {},
   "source": [
    "### Number of similar products which has different ratings in two categories"
   ]
  },
  {
   "cell_type": "code",
   "execution_count": 35,
   "metadata": {},
   "outputs": [
    {
     "name": "stdout",
     "output_type": "stream",
     "text": [
      "288423"
     ]
    }
   ],
   "source": [
    "df_rating.where((F.col(\"Books\").isNotNull()) & (F.col(\"Digital_Ebook_Purchase\").isNotNull())\\\n",
    "               & (F.col(\"Books\") != F.col(\"Digital_Ebook_Purchase\"))).count()"
   ]
  },
  {
   "cell_type": "markdown",
   "metadata": {},
   "source": [
    "### Comparing the ratings of similar products in both the categories"
   ]
  },
  {
   "cell_type": "code",
   "execution_count": 36,
   "metadata": {},
   "outputs": [
    {
     "name": "stdout",
     "output_type": "stream",
     "text": [
      "+--------------------+-----+----------------------+\n",
      "|       product_title|Books|Digital_Ebook_Purchase|\n",
      "+--------------------+-----+----------------------+\n",
      "|\"...then what?\": ...|  5.0|                   2.5|\n",
      "|\"100 people to me...|  4.5|                   5.0|\n",
      "|\"22e ... officer ...|  5.0|                  4.75|\n",
      "|\"a good man is ha...|3.667|                   1.0|\n",
      "|  \"a monster got me\"|  5.0|                 4.667|\n",
      "|\"a nice and quiet...|  5.0|                   4.0|\n",
      "|\"a problem from h...|4.111|                 4.333|\n",
      "|\"a survival guide...|  5.0|                   4.0|\n",
      "|\"according to hoy...|  5.0|                   3.4|\n",
      "|\"answer at once\":...|4.667|                   5.0|\n",
      "| \"are we there yet?\"|  5.0|                 4.333|\n",
      "|\"b\" is for betsy ...|4.765|                 4.667|\n",
      "|\"because of the a...|  5.0|                   3.0|\n",
      "|\"blessed harlaxto...| 4.75|                   5.0|\n",
      "|\"blind temptation...|4.154|                 3.667|\n",
      "|\"bloop, bloop!\"  ...|4.769|                 4.105|\n",
      "|\"catch 'em alive ...|4.667|                   4.0|\n",
      "|\"charlie\" brown's...|  5.0|                   4.5|\n",
      "|          \"cleaners\"|4.667|                   5.0|\n",
      "|     \"cliff and liz\"|  4.5|                   3.0|\n",
      "+--------------------+-----+----------------------+\n",
      "only showing top 20 rows"
     ]
    }
   ],
   "source": [
    "df_rating.where((F.col(\"Books\").isNotNull()) & (F.col(\"Digital_Ebook_Purchase\").isNotNull())\\\n",
    "               & (F.col(\"Books\") != F.col(\"Digital_Ebook_Purchase\"))).show()"
   ]
  }
 ],
 "metadata": {
  "kernelspec": {
   "display_name": "Python 3",
   "language": "python",
   "name": "python3"
  },
  "language_info": {
   "codemirror_mode": {
    "name": "ipython",
    "version": 3
   },
   "file_extension": ".py",
   "mimetype": "text/x-python",
   "name": "python",
   "nbconvert_exporter": "python",
   "pygments_lexer": "ipython3",
   "version": "3.7.6"
  }
 },
 "nbformat": 4,
 "nbformat_minor": 2
}
